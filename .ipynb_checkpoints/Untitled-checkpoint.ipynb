{
 "cells": [
  {
   "cell_type": "code",
   "execution_count": 21,
   "id": "745efacf-ff71-45a3-97d8-248f93d22b2b",
   "metadata": {},
   "outputs": [],
   "source": [
    "import matplotlib\n",
    "import matplotlib.pyplot as plt\n",
    "from classy import Class\n",
    "import numpy as np\n",
    "cosmo = Class()"
   ]
  },
  {
   "cell_type": "code",
   "execution_count": 22,
   "id": "0446b8ee-bbf6-4727-afce-9bbf891b0fd5",
   "metadata": {},
   "outputs": [
    {
     "ename": "NameError",
     "evalue": "name 'injection_list' is not defined",
     "output_type": "error",
     "traceback": [
      "\u001b[0;31m---------------------------------------------------------------------------\u001b[0m",
      "\u001b[0;31mNameError\u001b[0m                                 Traceback (most recent call last)",
      "Cell \u001b[0;32mIn[22], line 13\u001b[0m\n\u001b[1;32m     11\u001b[0m \u001b[38;5;66;03m# 'scf_parameters': '8.5, 3.469e-18, -7.8, 0, -4.58304, 0', \u001b[39;00m\n\u001b[1;32m     12\u001b[0m cosmo \u001b[38;5;241m=\u001b[39m Class()\n\u001b[0;32m---> 13\u001b[0m \u001b[43minjection_list\u001b[49m\n\u001b[1;32m     14\u001b[0m z_c \u001b[38;5;241m=\u001b[39m []\n\u001b[1;32m     15\u001b[0m f_ede \u001b[38;5;241m=\u001b[39m []\n",
      "\u001b[0;31mNameError\u001b[0m: name 'injection_list' is not defined"
     ]
    }
   ],
   "source": [
    "# @EDE: Restricted\n",
    "beta = 3.469e-18\n",
    "phii = -4.58304\n",
    "alpha = np.arange(5.5,8.6,0.1)\n",
    "v_alpha = -7.8\n",
    "params = {'ln10^{10}A_s': 3.196, 'n_s': 0.9776, 'H0': 67.08, 'omega_b': 0.02289,\n",
    " 'omega_cdm': 0.1256, 'tau_reio': 0.133, 'N_ur': 2.0328, 'N_ncdm': 1, 'm_ncdm': 0.06, 'Omega_fld': 0.0,\n",
    " 'Omega_Lambda': 0.0, 'Omega_scf': -0.68613, 'do_shooting': 'yes', 'scf_potential': 'EXPEXP',\n",
    " 'attractor_ic_scf': 'no', 'phiprime_ic_scf': 'yep', 'scf_tuning_index': 3,\n",
    "    'background_verbose': 0}\n",
    "# 'scf_parameters': '8.5, 3.469e-18, -7.8, 0, -4.58304, 0', \n",
    "cosmo = Class()\n",
    "z_c = []\n",
    "f_ede = []\n",
    "for i in alpha:\n",
    "    #add scf_parameters to params\n",
    "    params['scf_parameters']=str(i) + ',' +str(beta) + ',' +str(v_alpha) + ',' +str(0) + ',' +str(phii) + ',' +str(0)\n",
    "    cosmo.set(params)\n",
    "    inject , redshift = cosmo.get_current_derived_parameters(['f_ede','z_ede'])\n",
    "    z_c.append(redshift)\n",
    "    f_ede.append(inject)\n",
    "    cosmo.compute()\n",
    "    cosmo.struct_cleanup()\n"
   ]
  },
  {
   "cell_type": "code",
   "execution_count": null,
   "id": "43ec7089-566b-4496-bd47-1412328a7724",
   "metadata": {},
   "outputs": [],
   "source": []
  }
 ],
 "metadata": {
  "kernelspec": {
   "display_name": "Python 3 (ipykernel)",
   "language": "python",
   "name": "python3"
  },
  "language_info": {
   "codemirror_mode": {
    "name": "ipython",
    "version": 3
   },
   "file_extension": ".py",
   "mimetype": "text/x-python",
   "name": "python",
   "nbconvert_exporter": "python",
   "pygments_lexer": "ipython3",
   "version": "3.10.6"
  }
 },
 "nbformat": 4,
 "nbformat_minor": 5
}
